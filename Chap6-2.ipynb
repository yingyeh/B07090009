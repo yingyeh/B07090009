{
 "cells": [
  {
   "cell_type": "code",
   "execution_count": 1,
   "metadata": {},
   "outputs": [
    {
     "name": "stdout",
     "output_type": "stream",
     "text": [
      "0    False\n",
      "1    False\n",
      "2     True\n",
      "3    False\n",
      "4    False\n",
      "5    False\n",
      "Name: groups, dtype: bool\n",
      "0     True\n",
      "1     True\n",
      "2     True\n",
      "3     True\n",
      "4     True\n",
      "5    False\n",
      "Name: ironmen, dtype: bool\n"
     ]
    }
   ],
   "source": [
    "import numpy as np\n",
    "import pandas as pd\n",
    "groups=[\"Modern Web\",\"DevOps\",np.nan,\"Big Data\",\"Security\",\"自我挑戰組\"]\n",
    "ironmen=[59,9,19,14,6,np.nan]\n",
    "ironmen_dict={\"groups\":groups,\"ironmen\":ironmen}\n",
    "ironmen_df=pd.DataFrame(ironmen_dict)\n",
    "#print(ironmen_df)\n",
    "print(ironmen_df.loc[:,\"groups\"].isnull())      #判斷那些組名是遺失值\n",
    "print(ironmen_df.loc[:,\"ironmen\"].notnull())    #判斷那些組的鐵人數不是遺失值"
   ]
  },
  {
   "cell_type": "code",
   "execution_count": 2,
   "metadata": {},
   "outputs": [
    {
     "name": "stdout",
     "output_type": "stream",
     "text": [
      "2    NaN\n",
      "Name: groups, dtype: object\n",
      "0    59.0\n",
      "1     9.0\n",
      "2    19.0\n",
      "3    14.0\n",
      "4     6.0\n",
      "Name: ironmen, dtype: float64\n"
     ]
    }
   ],
   "source": [
    "print(ironmen_df.groups[ironmen_df.loc[:,\"groups\"].isnull()])\n",
    "print(ironmen_df.ironmen[ironmen_df.loc[:,\"ironmen\"].notnull()])"
   ]
  },
  {
   "cell_type": "code",
   "execution_count": 3,
   "metadata": {},
   "outputs": [
    {
     "name": "stdout",
     "output_type": "stream",
     "text": [
      "       groups  ironmen\n",
      "0  Modern Web     59.0\n",
      "1      DevOps      9.0\n",
      "2         NaN     19.0\n",
      "3    Big Data     14.0\n",
      "4    Security      6.0\n",
      "5       自我挑戰組      NaN\n",
      "       groups  ironmen\n",
      "0  Modern Web     59.0\n",
      "1      DevOps      9.0\n",
      "3    Big Data     14.0\n",
      "4    Security      6.0\n",
      "       groups  ironmen\n",
      "0  Modern Web     59.0\n",
      "1      DevOps      9.0\n",
      "2           0     19.0\n",
      "3    Big Data     14.0\n",
      "4    Security      6.0\n",
      "5       自我挑戰組      0.0\n",
      "       groups  ironmen\n",
      "0  Modern Web     59.0\n",
      "1      DevOps      9.0\n",
      "2       Cloud     19.0\n",
      "3    Big Data     14.0\n",
      "4    Security      6.0\n",
      "5       自我挑戰組     71.0\n"
     ]
    }
   ],
   "source": [
    "print(ironmen_df)\n",
    "ironmen_df_dropped=ironmen_df.dropna()   #刪除遺失值\n",
    "print(ironmen_df_dropped)\n",
    "ironmen_df_filled=ironmen_df.fillna(0)\n",
    "print(ironmen_df_filled)\n",
    "ironmen_df_fillvalue=ironmen_df.fillna({\"groups\":\"Cloud\",\"ironmen\":71})\n",
    "print(ironmen_df_fillvalue)"
   ]
  },
  {
   "cell_type": "code",
   "execution_count": null,
   "metadata": {},
   "outputs": [],
   "source": []
  }
 ],
 "metadata": {
  "kernelspec": {
   "display_name": "Python 3",
   "language": "python",
   "name": "python3"
  },
  "language_info": {
   "codemirror_mode": {
    "name": "ipython",
    "version": 3
   },
   "file_extension": ".py",
   "mimetype": "text/x-python",
   "name": "python",
   "nbconvert_exporter": "python",
   "pygments_lexer": "ipython3",
   "version": "3.7.4"
  }
 },
 "nbformat": 4,
 "nbformat_minor": 2
}
