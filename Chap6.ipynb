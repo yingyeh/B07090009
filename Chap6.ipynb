{
 "cells": [
  {
   "cell_type": "markdown",
   "metadata": {},
   "source": [
    "## Pandas Data Frame\n",
    "## ·Pandas是Python常用的數據分析涵式庫，2009年底開源，提供高效能，簡易使用的資料格式\n",
    "## (Date Frame)讓使用者可以快速操作及分析資料\n",
    "## ·在異質數據的讀取、轉換和處理上，都讓分析人員更容易處理，例如:從列、欄資料中找到想要的數值。\n",
    "## ·Pandas提供DataFrame則是用來處理結構化(Table like)的資料，例如關聯式資料庫、CSV等等。 透過載入至Pandas的資料結構物件後，可以透過結構物件所提供的方法，來快速提地進行資料的前處理，如資料補值，空值去除或取代等。"
   ]
  },
  {
   "cell_type": "code",
   "execution_count": 1,
   "metadata": {},
   "outputs": [],
   "source": [
    "import pandas as pd"
   ]
  },
  {
   "cell_type": "code",
   "execution_count": 2,
   "metadata": {},
   "outputs": [
    {
     "data": {
      "text/html": [
       "<div>\n",
       "<style scoped>\n",
       "    .dataframe tbody tr th:only-of-type {\n",
       "        vertical-align: middle;\n",
       "    }\n",
       "\n",
       "    .dataframe tbody tr th {\n",
       "        vertical-align: top;\n",
       "    }\n",
       "\n",
       "    .dataframe thead th {\n",
       "        text-align: right;\n",
       "    }\n",
       "</style>\n",
       "<table border=\"1\" class=\"dataframe\">\n",
       "  <thead>\n",
       "    <tr style=\"text-align: right;\">\n",
       "      <th></th>\n",
       "      <th>groups</th>\n",
       "      <th>ironmen</th>\n",
       "    </tr>\n",
       "  </thead>\n",
       "  <tbody>\n",
       "    <tr>\n",
       "      <td>0</td>\n",
       "      <td>Modern Wed</td>\n",
       "      <td>59</td>\n",
       "    </tr>\n",
       "    <tr>\n",
       "      <td>1</td>\n",
       "      <td>DevOps</td>\n",
       "      <td>9</td>\n",
       "    </tr>\n",
       "    <tr>\n",
       "      <td>2</td>\n",
       "      <td>Cloud</td>\n",
       "      <td>19</td>\n",
       "    </tr>\n",
       "    <tr>\n",
       "      <td>3</td>\n",
       "      <td>Big Data</td>\n",
       "      <td>14</td>\n",
       "    </tr>\n",
       "    <tr>\n",
       "      <td>4</td>\n",
       "      <td>Security</td>\n",
       "      <td>6</td>\n",
       "    </tr>\n",
       "    <tr>\n",
       "      <td>5</td>\n",
       "      <td>自我挑戰組</td>\n",
       "      <td>77</td>\n",
       "    </tr>\n",
       "  </tbody>\n",
       "</table>\n",
       "</div>"
      ],
      "text/plain": [
       "       groups  ironmen\n",
       "0  Modern Wed       59\n",
       "1      DevOps        9\n",
       "2       Cloud       19\n",
       "3    Big Data       14\n",
       "4    Security        6\n",
       "5       自我挑戰組       77"
      ]
     },
     "execution_count": 2,
     "metadata": {},
     "output_type": "execute_result"
    }
   ],
   "source": [
    "groups = [\"Modern Wed\",\"DevOps\",\"Cloud\",\"Big Data\",\"Security\",\"自我挑戰組\"]\n",
    "ironmen = [59,9,19,14,6,77]\n",
    "ironmen_dict = {'groups':groups,\"ironmen\":ironmen}\n",
    "ironmen_df = pd.DataFrame(ironmen_dict)\n",
    "ironmen_df"
   ]
  },
  {
   "cell_type": "code",
   "execution_count": 3,
   "metadata": {},
   "outputs": [
    {
     "name": "stdout",
     "output_type": "stream",
     "text": [
      "groups     Modern WedDevOpsCloudBig DataSecurity自我挑戰組\n",
      "ironmen                                           184\n",
      "dtype: object\n",
      "ironmen    30.666667\n",
      "dtype: float64\n",
      "ironmen    16.5\n",
      "dtype: float64\n",
      "         ironmen\n",
      "count   6.000000\n",
      "mean   30.666667\n",
      "std    29.803803\n",
      "min     6.000000\n",
      "25%    10.250000\n",
      "50%    16.500000\n",
      "75%    49.000000\n",
      "max    77.000000\n"
     ]
    }
   ],
   "source": [
    "print(ironmen_df.sum())      #計算鐵人總數\n",
    "print(ironmen_df.mean())     #計算平均鐵人數\n",
    "print(ironmen_df.median())   #計算鐵人中位數\n",
    "print(ironmen_df.describe()) #列出所有描述性統計"
   ]
  },
  {
   "cell_type": "code",
   "execution_count": 4,
   "metadata": {},
   "outputs": [
    {
     "name": "stdout",
     "output_type": "stream",
     "text": [
      "       groups  ironmen\n",
      "0  Modern Wed     59.0\n",
      "1      DevOps      9.0\n",
      "2         NaN     19.0\n",
      "3    Big Data     14.0\n",
      "4    Security      6.0\n",
      "5       自我挑戰組      NaN\n",
      "---\n",
      "0    False\n",
      "1    False\n",
      "2     True\n",
      "3    False\n",
      "4    False\n",
      "5    False\n",
      "Name: groups, dtype: bool\n",
      "---\n",
      "0     True\n",
      "1     True\n",
      "2     True\n",
      "3     True\n",
      "4     True\n",
      "5    False\n",
      "Name: ironmen, dtype: bool\n"
     ]
    }
   ],
   "source": [
    "import numpy as np\n",
    "groups = [\"Modern Wed\",\"DevOps\",np.nan,\"Big Data\",\"Security\",\"自我挑戰組\"]\n",
    "ironmen = [59,9,19,14,6,np.nan]\n",
    "ironmen_dict = {'groups':groups,\"ironmen\":ironmen}\n",
    "ironmen_df = pd.DataFrame(ironmen_dict)\n",
    "print(ironmen_df)\n",
    "print(\"---\")\n",
    "print(ironmen_df.loc[:,\"groups\"].isnull())\n",
    "print(\"---\")\n",
    "print(ironmen_df.loc[:,\"ironmen\"].notnull())"
   ]
  },
  {
   "cell_type": "code",
   "execution_count": 6,
   "metadata": {},
   "outputs": [
    {
     "name": "stderr",
     "output_type": "stream",
     "text": [
      "C:\\ProgramData\\Anaconda3\\lib\\site-packages\\ipykernel_launcher.py:1: SettingWithCopyWarning: \n",
      "A value is trying to be set on a copy of a slice from a DataFrame\n",
      "\n",
      "See the caveats in the documentation: http://pandas.pydata.org/pandas-docs/stable/user_guide/indexing.html#returning-a-view-versus-a-copy\n",
      "  \"\"\"Entry point for launching an IPython kernel.\n",
      "C:\\ProgramData\\Anaconda3\\lib\\site-packages\\ipykernel_launcher.py:2: SettingWithCopyWarning: \n",
      "A value is trying to be set on a copy of a slice from a DataFrame\n",
      "\n",
      "See the caveats in the documentation: http://pandas.pydata.org/pandas-docs/stable/user_guide/indexing.html#returning-a-view-versus-a-copy\n",
      "  \n"
     ]
    },
    {
     "data": {
      "text/html": [
       "<div>\n",
       "<style scoped>\n",
       "    .dataframe tbody tr th:only-of-type {\n",
       "        vertical-align: middle;\n",
       "    }\n",
       "\n",
       "    .dataframe tbody tr th {\n",
       "        vertical-align: top;\n",
       "    }\n",
       "\n",
       "    .dataframe thead th {\n",
       "        text-align: right;\n",
       "    }\n",
       "</style>\n",
       "<table border=\"1\" class=\"dataframe\">\n",
       "  <thead>\n",
       "    <tr style=\"text-align: right;\">\n",
       "      <th></th>\n",
       "      <th>groups</th>\n",
       "      <th>ironmen</th>\n",
       "    </tr>\n",
       "  </thead>\n",
       "  <tbody>\n",
       "    <tr>\n",
       "      <td>0</td>\n",
       "      <td>Modern Wed</td>\n",
       "      <td>69.0</td>\n",
       "    </tr>\n",
       "    <tr>\n",
       "      <td>1</td>\n",
       "      <td>DevOps</td>\n",
       "      <td>19.0</td>\n",
       "    </tr>\n",
       "    <tr>\n",
       "      <td>2</td>\n",
       "      <td>不知道名字組</td>\n",
       "      <td>29.0</td>\n",
       "    </tr>\n",
       "    <tr>\n",
       "      <td>3</td>\n",
       "      <td>Big Data</td>\n",
       "      <td>24.0</td>\n",
       "    </tr>\n",
       "    <tr>\n",
       "      <td>4</td>\n",
       "      <td>Security</td>\n",
       "      <td>16.0</td>\n",
       "    </tr>\n",
       "    <tr>\n",
       "      <td>5</td>\n",
       "      <td>自我挑戰組</td>\n",
       "      <td>NaN</td>\n",
       "    </tr>\n",
       "  </tbody>\n",
       "</table>\n",
       "</div>"
      ],
      "text/plain": [
       "       groups  ironmen\n",
       "0  Modern Wed     69.0\n",
       "1      DevOps     19.0\n",
       "2      不知道名字組     29.0\n",
       "3    Big Data     24.0\n",
       "4    Security     16.0\n",
       "5       自我挑戰組      NaN"
      ]
     },
     "execution_count": 6,
     "metadata": {},
     "output_type": "execute_result"
    }
   ],
   "source": [
    "ironmen_df.groups[ironmen_df.loc[:, \"groups\"].isnull()] = \"不知道名字組\"\n",
    "ironmen_df.ironmen[ironmen_df.loc[:, \"ironmen\"].notnull()] +=10\n",
    "ironmen_df"
   ]
  },
  {
   "cell_type": "code",
   "execution_count": null,
   "metadata": {},
   "outputs": [],
   "source": []
  }
 ],
 "metadata": {
  "kernelspec": {
   "display_name": "Python 3",
   "language": "python",
   "name": "python3"
  },
  "language_info": {
   "codemirror_mode": {
    "name": "ipython",
    "version": 3
   },
   "file_extension": ".py",
   "mimetype": "text/x-python",
   "name": "python",
   "nbconvert_exporter": "python",
   "pygments_lexer": "ipython3",
   "version": "3.7.4"
  }
 },
 "nbformat": 4,
 "nbformat_minor": 2
}
