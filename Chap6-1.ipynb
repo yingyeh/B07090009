{
 "cells": [
  {
   "cell_type": "markdown",
   "metadata": {},
   "source": [
    "# Chap6-1 DataFrame loc,iloc\n",
    "### DataFrame比numpy ndarry(element-wise)提供資料統整的功能\n",
    "### DataFrame通常為二維資料\n",
    "### 橫的為列(索引index),直的為欄(column)\n"
   ]
  },
  {
   "cell_type": "code",
   "execution_count": 23,
   "metadata": {},
   "outputs": [
    {
     "data": {
      "text/html": [
       "<div>\n",
       "<style scoped>\n",
       "    .dataframe tbody tr th:only-of-type {\n",
       "        vertical-align: middle;\n",
       "    }\n",
       "\n",
       "    .dataframe tbody tr th {\n",
       "        vertical-align: top;\n",
       "    }\n",
       "\n",
       "    .dataframe thead th {\n",
       "        text-align: right;\n",
       "    }\n",
       "</style>\n",
       "<table border=\"1\" class=\"dataframe\">\n",
       "  <thead>\n",
       "    <tr style=\"text-align: right;\">\n",
       "      <th></th>\n",
       "      <th>A</th>\n",
       "      <th>B</th>\n",
       "      <th>C</th>\n",
       "      <th>D</th>\n",
       "    </tr>\n",
       "  </thead>\n",
       "  <tbody>\n",
       "    <tr>\n",
       "      <td>a</td>\n",
       "      <td>0.649596</td>\n",
       "      <td>0.935199</td>\n",
       "      <td>0.867123</td>\n",
       "      <td>0.010912</td>\n",
       "    </tr>\n",
       "    <tr>\n",
       "      <td>b</td>\n",
       "      <td>0.237087</td>\n",
       "      <td>0.698182</td>\n",
       "      <td>0.305460</td>\n",
       "      <td>0.235908</td>\n",
       "    </tr>\n",
       "    <tr>\n",
       "      <td>c</td>\n",
       "      <td>0.652800</td>\n",
       "      <td>0.353892</td>\n",
       "      <td>0.284117</td>\n",
       "      <td>0.145997</td>\n",
       "    </tr>\n",
       "    <tr>\n",
       "      <td>d</td>\n",
       "      <td>0.835135</td>\n",
       "      <td>0.122123</td>\n",
       "      <td>0.592508</td>\n",
       "      <td>0.758690</td>\n",
       "    </tr>\n",
       "  </tbody>\n",
       "</table>\n",
       "</div>"
      ],
      "text/plain": [
       "          A         B         C         D\n",
       "a  0.649596  0.935199  0.867123  0.010912\n",
       "b  0.237087  0.698182  0.305460  0.235908\n",
       "c  0.652800  0.353892  0.284117  0.145997\n",
       "d  0.835135  0.122123  0.592508  0.758690"
      ]
     },
     "execution_count": 23,
     "metadata": {},
     "output_type": "execute_result"
    }
   ],
   "source": [
    "#隨機產生DataFrame資料\n",
    "import numpy as np\n",
    "import pandas as pd\n",
    "frame= pd.DataFrame(np.random.rand(4,4),index=list('abcd'),columns=list('ABCD'))\n",
    "frame"
   ]
  },
  {
   "cell_type": "code",
   "execution_count": 26,
   "metadata": {},
   "outputs": [
    {
     "data": {
      "text/html": [
       "<div>\n",
       "<style scoped>\n",
       "    .dataframe tbody tr th:only-of-type {\n",
       "        vertical-align: middle;\n",
       "    }\n",
       "\n",
       "    .dataframe tbody tr th {\n",
       "        vertical-align: top;\n",
       "    }\n",
       "\n",
       "    .dataframe thead th {\n",
       "        text-align: right;\n",
       "    }\n",
       "</style>\n",
       "<table border=\"1\" class=\"dataframe\">\n",
       "  <thead>\n",
       "    <tr style=\"text-align: right;\">\n",
       "      <th></th>\n",
       "      <th>A</th>\n",
       "      <th>B</th>\n",
       "      <th>C</th>\n",
       "      <th>D</th>\n",
       "    </tr>\n",
       "  </thead>\n",
       "  <tbody>\n",
       "    <tr>\n",
       "      <td>count</td>\n",
       "      <td>4.000000</td>\n",
       "      <td>4.000000</td>\n",
       "      <td>4.000000</td>\n",
       "      <td>4.000000</td>\n",
       "    </tr>\n",
       "    <tr>\n",
       "      <td>mean</td>\n",
       "      <td>0.593654</td>\n",
       "      <td>0.527349</td>\n",
       "      <td>0.512302</td>\n",
       "      <td>0.287877</td>\n",
       "    </tr>\n",
       "    <tr>\n",
       "      <td>std</td>\n",
       "      <td>0.253036</td>\n",
       "      <td>0.360472</td>\n",
       "      <td>0.275186</td>\n",
       "      <td>0.327213</td>\n",
       "    </tr>\n",
       "    <tr>\n",
       "      <td>min</td>\n",
       "      <td>0.237087</td>\n",
       "      <td>0.122123</td>\n",
       "      <td>0.284117</td>\n",
       "      <td>0.010912</td>\n",
       "    </tr>\n",
       "    <tr>\n",
       "      <td>25%</td>\n",
       "      <td>0.546469</td>\n",
       "      <td>0.295949</td>\n",
       "      <td>0.300125</td>\n",
       "      <td>0.112226</td>\n",
       "    </tr>\n",
       "    <tr>\n",
       "      <td>50%</td>\n",
       "      <td>0.651198</td>\n",
       "      <td>0.526037</td>\n",
       "      <td>0.448984</td>\n",
       "      <td>0.190952</td>\n",
       "    </tr>\n",
       "    <tr>\n",
       "      <td>75%</td>\n",
       "      <td>0.698384</td>\n",
       "      <td>0.757436</td>\n",
       "      <td>0.661161</td>\n",
       "      <td>0.366603</td>\n",
       "    </tr>\n",
       "    <tr>\n",
       "      <td>max</td>\n",
       "      <td>0.835135</td>\n",
       "      <td>0.935199</td>\n",
       "      <td>0.867123</td>\n",
       "      <td>0.758690</td>\n",
       "    </tr>\n",
       "  </tbody>\n",
       "</table>\n",
       "</div>"
      ],
      "text/plain": [
       "              A         B         C         D\n",
       "count  4.000000  4.000000  4.000000  4.000000\n",
       "mean   0.593654  0.527349  0.512302  0.287877\n",
       "std    0.253036  0.360472  0.275186  0.327213\n",
       "min    0.237087  0.122123  0.284117  0.010912\n",
       "25%    0.546469  0.295949  0.300125  0.112226\n",
       "50%    0.651198  0.526037  0.448984  0.190952\n",
       "75%    0.698384  0.757436  0.661161  0.366603\n",
       "max    0.835135  0.935199  0.867123  0.758690"
      ]
     },
     "execution_count": 26,
     "metadata": {},
     "output_type": "execute_result"
    }
   ],
   "source": [
    "frame.describe() #dexcribe描述"
   ]
  },
  {
   "cell_type": "markdown",
   "metadata": {},
   "source": [
    "### loc 用欄位來找出DataFrameㄉ資料\n",
    "### iloc用索引來定位DataFrameㄉ資料\n",
    "### .loc用[列,欄]來定位資料，中間用,分隔"
   ]
  },
  {
   "cell_type": "code",
   "execution_count": 8,
   "metadata": {},
   "outputs": [
    {
     "data": {
      "text/plain": [
       "0.8418017586259374"
      ]
     },
     "execution_count": 8,
     "metadata": {},
     "output_type": "execute_result"
    }
   ],
   "source": [
    "frame.loc['a','A']"
   ]
  },
  {
   "cell_type": "code",
   "execution_count": 9,
   "metadata": {},
   "outputs": [
    {
     "data": {
      "text/html": [
       "<div>\n",
       "<style scoped>\n",
       "    .dataframe tbody tr th:only-of-type {\n",
       "        vertical-align: middle;\n",
       "    }\n",
       "\n",
       "    .dataframe tbody tr th {\n",
       "        vertical-align: top;\n",
       "    }\n",
       "\n",
       "    .dataframe thead th {\n",
       "        text-align: right;\n",
       "    }\n",
       "</style>\n",
       "<table border=\"1\" class=\"dataframe\">\n",
       "  <thead>\n",
       "    <tr style=\"text-align: right;\">\n",
       "      <th></th>\n",
       "      <th>A</th>\n",
       "      <th>B</th>\n",
       "      <th>C</th>\n",
       "      <th>D</th>\n",
       "    </tr>\n",
       "  </thead>\n",
       "  <tbody>\n",
       "    <tr>\n",
       "      <td>a</td>\n",
       "      <td>0.841802</td>\n",
       "      <td>0.361873</td>\n",
       "      <td>0.842432</td>\n",
       "      <td>0.198216</td>\n",
       "    </tr>\n",
       "    <tr>\n",
       "      <td>b</td>\n",
       "      <td>0.016902</td>\n",
       "      <td>0.945483</td>\n",
       "      <td>0.883222</td>\n",
       "      <td>0.473464</td>\n",
       "    </tr>\n",
       "  </tbody>\n",
       "</table>\n",
       "</div>"
      ],
      "text/plain": [
       "          A         B         C         D\n",
       "a  0.841802  0.361873  0.842432  0.198216\n",
       "b  0.016902  0.945483  0.883222  0.473464"
      ]
     },
     "execution_count": 9,
     "metadata": {},
     "output_type": "execute_result"
    }
   ],
   "source": [
    "#取前兩列的對應資料\n",
    "frame.loc['a':'b',:]   #:就是取?邊到?邊的\n",
    "                       #frame就等於frame.loc[:,:]\n"
   ]
  },
  {
   "cell_type": "code",
   "execution_count": 10,
   "metadata": {},
   "outputs": [
    {
     "data": {
      "text/html": [
       "<div>\n",
       "<style scoped>\n",
       "    .dataframe tbody tr th:only-of-type {\n",
       "        vertical-align: middle;\n",
       "    }\n",
       "\n",
       "    .dataframe tbody tr th {\n",
       "        vertical-align: top;\n",
       "    }\n",
       "\n",
       "    .dataframe thead th {\n",
       "        text-align: right;\n",
       "    }\n",
       "</style>\n",
       "<table border=\"1\" class=\"dataframe\">\n",
       "  <thead>\n",
       "    <tr style=\"text-align: right;\">\n",
       "      <th></th>\n",
       "      <th>A</th>\n",
       "      <th>B</th>\n",
       "    </tr>\n",
       "  </thead>\n",
       "  <tbody>\n",
       "    <tr>\n",
       "      <td>a</td>\n",
       "      <td>0.841802</td>\n",
       "      <td>0.361873</td>\n",
       "    </tr>\n",
       "    <tr>\n",
       "      <td>b</td>\n",
       "      <td>0.016902</td>\n",
       "      <td>0.945483</td>\n",
       "    </tr>\n",
       "    <tr>\n",
       "      <td>c</td>\n",
       "      <td>0.724604</td>\n",
       "      <td>0.502230</td>\n",
       "    </tr>\n",
       "    <tr>\n",
       "      <td>d</td>\n",
       "      <td>0.614969</td>\n",
       "      <td>0.966072</td>\n",
       "    </tr>\n",
       "  </tbody>\n",
       "</table>\n",
       "</div>"
      ],
      "text/plain": [
       "          A         B\n",
       "a  0.841802  0.361873\n",
       "b  0.016902  0.945483\n",
       "c  0.724604  0.502230\n",
       "d  0.614969  0.966072"
      ]
     },
     "execution_count": 10,
     "metadata": {},
     "output_type": "execute_result"
    }
   ],
   "source": [
    "#取前兩欄的對應資料\n",
    "frame.loc[:,'A':'B']"
   ]
  },
  {
   "cell_type": "code",
   "execution_count": 15,
   "metadata": {},
   "outputs": [
    {
     "name": "stdout",
     "output_type": "stream",
     "text": [
      "          A         B         C         D\n",
      "a  0.841802  0.361873  0.842432  0.198216\n",
      "c  0.724604  0.502230  0.329563  0.882791\n",
      "          A         C\n",
      "a  0.841802  0.842432\n",
      "b  0.016902  0.883222\n",
      "c  0.724604  0.329563\n",
      "d  0.614969  0.394780\n",
      "          A         D\n",
      "a  0.841802  0.198216\n",
      "d  0.614969  0.005300\n"
     ]
    }
   ],
   "source": [
    "#取特殊列、欄的資料\n",
    "print(frame.loc[['a','c'],:])\n",
    "print(frame.loc[:,['A','C']])\n",
    "print(frame.loc[['a','d'],['A','D']])"
   ]
  },
  {
   "cell_type": "markdown",
   "metadata": {},
   "source": [
    "### iloc是利用索引與欄索引進行資料定位,都是從0開始"
   ]
  },
  {
   "cell_type": "code",
   "execution_count": 16,
   "metadata": {},
   "outputs": [
    {
     "data": {
      "text/plain": [
       "0.8418017586259374"
      ]
     },
     "execution_count": 16,
     "metadata": {},
     "output_type": "execute_result"
    }
   ],
   "source": [
    "frame.iloc[0,0]"
   ]
  },
  {
   "cell_type": "code",
   "execution_count": 13,
   "metadata": {},
   "outputs": [
    {
     "data": {
      "text/html": [
       "<div>\n",
       "<style scoped>\n",
       "    .dataframe tbody tr th:only-of-type {\n",
       "        vertical-align: middle;\n",
       "    }\n",
       "\n",
       "    .dataframe tbody tr th {\n",
       "        vertical-align: top;\n",
       "    }\n",
       "\n",
       "    .dataframe thead th {\n",
       "        text-align: right;\n",
       "    }\n",
       "</style>\n",
       "<table border=\"1\" class=\"dataframe\">\n",
       "  <thead>\n",
       "    <tr style=\"text-align: right;\">\n",
       "      <th></th>\n",
       "      <th>A</th>\n",
       "      <th>B</th>\n",
       "      <th>C</th>\n",
       "      <th>D</th>\n",
       "    </tr>\n",
       "  </thead>\n",
       "  <tbody>\n",
       "    <tr>\n",
       "      <td>a</td>\n",
       "      <td>0.841802</td>\n",
       "      <td>0.361873</td>\n",
       "      <td>0.842432</td>\n",
       "      <td>0.198216</td>\n",
       "    </tr>\n",
       "    <tr>\n",
       "      <td>b</td>\n",
       "      <td>0.016902</td>\n",
       "      <td>0.945483</td>\n",
       "      <td>0.883222</td>\n",
       "      <td>0.473464</td>\n",
       "    </tr>\n",
       "  </tbody>\n",
       "</table>\n",
       "</div>"
      ],
      "text/plain": [
       "          A         B         C         D\n",
       "a  0.841802  0.361873  0.842432  0.198216\n",
       "b  0.016902  0.945483  0.883222  0.473464"
      ]
     },
     "execution_count": 13,
     "metadata": {},
     "output_type": "execute_result"
    }
   ],
   "source": [
    "#取前兩列的資料\n",
    "frame.iloc[0:2,:]   #0:2前面包含(0),後面不包含(2)"
   ]
  },
  {
   "cell_type": "code",
   "execution_count": 14,
   "metadata": {},
   "outputs": [
    {
     "name": "stdout",
     "output_type": "stream",
     "text": [
      "          A         B         C         D\n",
      "a  0.841802  0.361873  0.842432  0.198216\n",
      "c  0.724604  0.502230  0.329563  0.882791\n",
      "          A         C\n",
      "a  0.841802  0.842432\n",
      "b  0.016902  0.883222\n",
      "c  0.724604  0.329563\n",
      "d  0.614969  0.394780\n",
      "          A         D\n",
      "a  0.841802  0.198216\n",
      "d  0.614969  0.005300\n"
     ]
    }
   ],
   "source": [
    "#取特殊列、欄的資料\n",
    "print(frame.iloc[[0,2],:])\n",
    "print(frame.iloc[:,[0,2]])\n",
    "print(frame.iloc[[0,3],[0,3]])"
   ]
  }
 ],
 "metadata": {
  "kernelspec": {
   "display_name": "Python 3",
   "language": "python",
   "name": "python3"
  },
  "language_info": {
   "codemirror_mode": {
    "name": "ipython",
    "version": 3
   },
   "file_extension": ".py",
   "mimetype": "text/x-python",
   "name": "python",
   "nbconvert_exporter": "python",
   "pygments_lexer": "ipython3",
   "version": "3.7.4"
  }
 },
 "nbformat": 4,
 "nbformat_minor": 2
}
